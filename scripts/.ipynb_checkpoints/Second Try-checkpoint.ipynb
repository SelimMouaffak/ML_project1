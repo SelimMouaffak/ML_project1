{
 "cells": [
  {
   "cell_type": "code",
   "execution_count": 1,
   "metadata": {
    "ExecuteTime": {
     "end_time": "2021-10-31T17:54:18.482955Z",
     "start_time": "2021-10-31T17:54:15.832562Z"
    }
   },
   "outputs": [],
   "source": [
    "# Useful starting lines\n",
    "%matplotlib inline\n",
    "import numpy as np\n",
    "import matplotlib.pyplot as plt\n",
    "%load_ext autoreload\n",
    "%autoreload 2\n",
    "from matplotlib import pyplot as plt \n",
    "import seaborn as sns\n",
    "\n"
   ]
  },
  {
   "cell_type": "markdown",
   "metadata": {
    "heading_collapsed": true
   },
   "source": [
    "# Load the  data into feature matrix, class labels, and event ids:"
   ]
  },
  {
   "cell_type": "markdown",
   "metadata": {
    "hidden": true
   },
   "source": [
    "In this section, we will load the data."
   ]
  },
  {
   "cell_type": "code",
   "execution_count": 2,
   "metadata": {
    "ExecuteTime": {
     "end_time": "2021-10-31T17:54:45.631454Z",
     "start_time": "2021-10-31T17:54:18.484944Z"
    },
    "hidden": true
   },
   "outputs": [],
   "source": [
    "from proj1_helpers import *\n",
    "#Change the path according to where is your data \n",
    "DATA_TRAIN_PATH = r\"C:\\Users\\USER\\Desktop\\MA1\\ML\\train.csv\" \n",
    "y, tX, ids = load_csv_data(DATA_TRAIN_PATH)\n",
    "\n",
    "DATA_TEST_PATH = r\"C:\\Users\\USER\\Desktop\\MA1\\ML\\test.csv\" # TODO: download train data and supply path here \n",
    "_, tX_test, ids_test = load_csv_data(DATA_TEST_PATH)"
   ]
  },
  {
   "cell_type": "code",
   "execution_count": 3,
   "metadata": {
    "ExecuteTime": {
     "end_time": "2021-10-31T17:54:45.709523Z",
     "start_time": "2021-10-31T17:54:45.633079Z"
    },
    "hidden": true
   },
   "outputs": [],
   "source": [
    "### Define variables for the dimensions of the data\n",
    "N = tX.shape[0]\n",
    "D = tX.shape[1]\n",
    "N_test=tX_test.shape[0]\n"
   ]
  },
  {
   "cell_type": "markdown",
   "metadata": {},
   "source": [
    "# Data Pre-Processing"
   ]
  },
  {
   "cell_type": "markdown",
   "metadata": {},
   "source": [
    "## Partitioning the Data"
   ]
  },
  {
   "cell_type": "markdown",
   "metadata": {},
   "source": [
    "In this subsection, we will divide the datasets into three sub-datasets according to their PRI_JET_NUM"
   ]
  },
  {
   "cell_type": "code",
   "execution_count": 4,
   "metadata": {
    "ExecuteTime": {
     "end_time": "2021-10-31T17:54:45.787628Z",
     "start_time": "2021-10-31T17:54:45.711523Z"
    }
   },
   "outputs": [],
   "source": [
    "#the number of the feature that contains the pri_jet_number\n",
    "jet_num_col=22"
   ]
  },
  {
   "cell_type": "code",
   "execution_count": 5,
   "metadata": {
    "ExecuteTime": {
     "end_time": "2021-10-31T17:54:45.866097Z",
     "start_time": "2021-10-31T17:54:45.791571Z"
    }
   },
   "outputs": [],
   "source": [
    "#div data is a table (that will be changed into a numpy) that will contains the datasets according \n",
    "#to their pri_jet_num\n",
    "div_x= [[],[],[]]\n",
    "div_y=[[],[],[]]\n",
    "\n",
    "# We do the same for the testing set\n",
    "div_x_test= [[],[],[]]\n"
   ]
  },
  {
   "cell_type": "code",
   "execution_count": 6,
   "metadata": {
    "ExecuteTime": {
     "end_time": "2021-10-31T17:54:46.354825Z",
     "start_time": "2021-10-31T17:54:45.868053Z"
    }
   },
   "outputs": [],
   "source": [
    "#For every data point\n",
    "for i in range (N):\n",
    "    #we extract its pri_jet_num\n",
    "    pri_jet_num=int(tX[i,jet_num_col])\n",
    "    #we assign it to the new data set based on its pri_jet_num\n",
    "    if (pri_jet_num in [0,1]): \n",
    "        div_x[pri_jet_num].append(tX[i])\n",
    "        div_y[pri_jet_num].append(y[i])\n",
    "        \n",
    "    if (pri_jet_num in [2,3]):\n",
    "        div_x[2].append(tX[i]) \n",
    "        div_y[2].append(y[i])"
   ]
  },
  {
   "cell_type": "code",
   "execution_count": 7,
   "metadata": {
    "ExecuteTime": {
     "end_time": "2021-10-31T17:54:47.124220Z",
     "start_time": "2021-10-31T17:54:46.356822Z"
    }
   },
   "outputs": [],
   "source": [
    "#For every data point\n",
    "for i in range (N_test):\n",
    "    #we extract its pri_jet_num\n",
    "    pri_jet_num=int(tX_test[i,jet_num_col])\n",
    "    #we assign it to the new data set based on its pri_jet_num\n",
    "    if (pri_jet_num in [0,1]): \n",
    "        div_x_test[pri_jet_num].append(tX_test[i])\n",
    "    if (pri_jet_num in [2,3]):\n",
    "        div_x_test[2].append(tX_test[i])"
   ]
  },
  {
   "cell_type": "code",
   "execution_count": 8,
   "metadata": {
    "ExecuteTime": {
     "end_time": "2021-10-31T17:54:47.202736Z",
     "start_time": "2021-10-31T17:54:47.126113Z"
    }
   },
   "outputs": [],
   "source": [
    "#transforms an array of 3 arrays into a numpy lists that contains 3 numpy lists\n",
    "def fromNumpyToList(tab):\n",
    "    for i in range(3):\n",
    "        tab[i]=np.array(tab[i])\n",
    "    return np.array(tab)"
   ]
  },
  {
   "cell_type": "code",
   "execution_count": 9,
   "metadata": {
    "ExecuteTime": {
     "end_time": "2021-10-31T17:54:47.913039Z",
     "start_time": "2021-10-31T17:54:47.206692Z"
    }
   },
   "outputs": [
    {
     "name": "stderr",
     "output_type": "stream",
     "text": [
      "<ipython-input-8-566570f90b78>:5: VisibleDeprecationWarning: Creating an ndarray from ragged nested sequences (which is a list-or-tuple of lists-or-tuples-or ndarrays with different lengths or shapes) is deprecated. If you meant to do this, you must specify 'dtype=object' when creating the ndarray\n",
      "  return np.array(tab)\n"
     ]
    }
   ],
   "source": [
    "div_x= fromNumpyToList(div_x)\n",
    "div_y= fromNumpyToList(div_y)\n",
    "\n",
    "div_x_test=fromNumpyToList(div_x_test)"
   ]
  },
  {
   "cell_type": "code",
   "execution_count": 10,
   "metadata": {
    "ExecuteTime": {
     "end_time": "2021-10-31T17:54:47.991464Z",
     "start_time": "2021-10-31T17:54:47.913997Z"
    }
   },
   "outputs": [
    {
     "name": "stdout",
     "output_type": "stream",
     "text": [
      "train 0 as a pri_jet_num :(99913, 30)\n",
      "test 0 as a pri_jet_num :(227458, 30)\n",
      "\n",
      "train 1 as a pri_jet_num :(77544, 30)\n",
      "test 1 as a pri_jet_num :(175338, 30)\n",
      "\n",
      "train 2 as a pri_jet_num :(72543, 30)\n",
      "test 2 as a pri_jet_num :(165442, 30)\n",
      "\n"
     ]
    }
   ],
   "source": [
    "for i in range(3):\n",
    "    print(\"train \" +str(i) +\" as a pri_jet_num :\" +str(div_x[i].shape))\n",
    "    print(\"test \" +str(i) +\" as a pri_jet_num :\" +str(div_x_test[i].shape))\n",
    "    print()\n"
   ]
  },
  {
   "cell_type": "markdown",
   "metadata": {},
   "source": [
    "## Deleting Features"
   ]
  },
  {
   "cell_type": "code",
   "execution_count": 11,
   "metadata": {
    "ExecuteTime": {
     "end_time": "2021-10-31T17:54:48.068408Z",
     "start_time": "2021-10-31T17:54:47.992461Z"
    }
   },
   "outputs": [],
   "source": [
    "#del_features[i] is False if the feature will be deleated\n",
    "\n",
    "#del_features[i] is for the ith dataset\n",
    "#del_features[:j] is for the jth feature\n",
    "\n",
    "del_features= [[],[],[]]"
   ]
  },
  {
   "cell_type": "markdown",
   "metadata": {},
   "source": [
    "### Undefined Features"
   ]
  },
  {
   "cell_type": "code",
   "execution_count": 12,
   "metadata": {
    "ExecuteTime": {
     "end_time": "2021-10-31T17:54:48.146801Z",
     "start_time": "2021-10-31T17:54:48.070069Z"
    }
   },
   "outputs": [],
   "source": [
    "#takes as input a list of lists called del_features\n",
    "#del_features[i] contains a list of the indices of the features to be deleted in i-th dataset \n",
    "def f_del_features(del_features):\n",
    "    for i in range(3):\n",
    "        div_x[i]=np.delete(div_x[i],del_features[i],axis=1)\n",
    "        div_x_test[i]=np.delete(div_x_test[i],del_features[i],axis=1)\n"
   ]
  },
  {
   "cell_type": "code",
   "execution_count": 13,
   "metadata": {
    "ExecuteTime": {
     "end_time": "2021-10-31T17:54:50.192526Z",
     "start_time": "2021-10-31T17:54:48.148797Z"
    }
   },
   "outputs": [],
   "source": [
    "# We will the features that contain only one values\n",
    "for i in range (3):\n",
    "    for j in range(D):\n",
    "        s= set(div_x[i][:,j])\n",
    "        if (len(s)<2):\n",
    "            del_features[i].append(j)"
   ]
  },
  {
   "cell_type": "code",
   "execution_count": 14,
   "metadata": {
    "ExecuteTime": {
     "end_time": "2021-10-31T17:54:50.255686Z",
     "start_time": "2021-10-31T17:54:50.193393Z"
    }
   },
   "outputs": [
    {
     "name": "stdout",
     "output_type": "stream",
     "text": [
      "deleted features because of the data division\n",
      "\n",
      "for the 0 th dataset\n",
      "12 have been deleted which are\n",
      "[4, 5, 6, 12, 22, 23, 24, 25, 26, 27, 28, 29]\n",
      "\n",
      "for the 1 th dataset\n",
      "8 have been deleted which are\n",
      "[4, 5, 6, 12, 22, 26, 27, 28]\n",
      "\n",
      "for the 2 th dataset\n",
      "0 have been deleted which are\n",
      "[]\n",
      "\n"
     ]
    }
   ],
   "source": [
    "print(\"deleted features because of the data division\")\n",
    "print()\n",
    "for i in range(3):\n",
    "    print (\"for the \"+str(i)+\" th dataset\")\n",
    "    print(str(len(del_features[i]))+\" have been deleted which are\")\n",
    "    print(del_features[i])\n",
    "    print()"
   ]
  },
  {
   "cell_type": "code",
   "execution_count": 15,
   "metadata": {
    "ExecuteTime": {
     "end_time": "2021-10-31T17:54:50.631728Z",
     "start_time": "2021-10-31T17:54:50.256663Z"
    }
   },
   "outputs": [],
   "source": [
    "f_del_features(del_features)\n",
    "#We reinitialize del_features\n",
    "del_features= [[],[],[]]"
   ]
  },
  {
   "cell_type": "code",
   "execution_count": 16,
   "metadata": {
    "ExecuteTime": {
     "end_time": "2021-10-31T17:54:50.709724Z",
     "start_time": "2021-10-31T17:54:50.632826Z"
    }
   },
   "outputs": [
    {
     "name": "stdout",
     "output_type": "stream",
     "text": [
      "train 0 as a pri_jet_num :(99913, 18)\n",
      "test 0 as a pri_jet_num :(227458, 18)\n",
      "\n",
      "train 1 as a pri_jet_num :(77544, 22)\n",
      "test 1 as a pri_jet_num :(175338, 22)\n",
      "\n",
      "train 2 as a pri_jet_num :(72543, 30)\n",
      "test 2 as a pri_jet_num :(165442, 30)\n",
      "\n"
     ]
    }
   ],
   "source": [
    "for i in range(3):\n",
    "    print(\"train \" +str(i) +\" as a pri_jet_num :\" +str(div_x[i].shape))\n",
    "    print(\"test \" +str(i) +\" as a pri_jet_num :\" +str(div_x_test[i].shape))\n",
    "    print()\n"
   ]
  },
  {
   "cell_type": "code",
   "execution_count": 17,
   "metadata": {
    "ExecuteTime": {
     "end_time": "2021-10-31T17:54:51.965606Z",
     "start_time": "2021-10-31T17:54:50.710570Z"
    }
   },
   "outputs": [],
   "source": [
    "# We will the features that contain only one values\n",
    "for i in range (3):\n",
    "    D= div_x[i].shape[1]\n",
    "    for j in range(0,D):\n",
    "        s= set(div_x[i][:,j])\n",
    "        if (len(s)<2):\n",
    "            print(\"i :\"+ str(i)+\" j :\"+ str(j))"
   ]
  },
  {
   "cell_type": "markdown",
   "metadata": {},
   "source": [
    "### Correlated Features"
   ]
  },
  {
   "cell_type": "code",
   "execution_count": 18,
   "metadata": {
    "ExecuteTime": {
     "end_time": "2021-10-31T17:54:52.123236Z",
     "start_time": "2021-10-31T17:54:51.967603Z"
    }
   },
   "outputs": [],
   "source": [
    "corrs=[[],[],[]]\n",
    "for i in range(3):\n",
    "    corrs[i]= np.corrcoef(div_x[i].T)\n"
   ]
  },
  {
   "cell_type": "code",
   "execution_count": 19,
   "metadata": {
    "ExecuteTime": {
     "end_time": "2021-10-31T17:54:52.642054Z",
     "start_time": "2021-10-31T17:54:52.125231Z"
    }
   },
   "outputs": [
    {
     "data": {
      "image/png": "[encoded data removed]",
      "text/plain": [
       "<Figure size 432x288 with 2 Axes>"
      ]
     },
     "metadata": {
      "needs_background": "light"
     },
     "output_type": "display_data"
    }
   ],
   "source": [
    "i=2\n",
    "ax = plt.axes()\n",
    "sns.heatmap(corrs[i], ax = ax)\n",
    "ax.set_title(' Correation Matrix of sub-dataset number '+str(i))\n",
    "plt.savefig('correlation matrix ')\n",
    "plt.show()\n"
   ]
  },
  {
   "cell_type": "code",
   "execution_count": 20,
   "metadata": {
    "ExecuteTime": {
     "end_time": "2021-10-31T17:54:52.721047Z",
     "start_time": "2021-10-31T17:54:52.643023Z"
    }
   },
   "outputs": [],
   "source": [
    "#TODO: hypertune the correlation threshhold"
   ]
  },
  {
   "cell_type": "code",
   "execution_count": 21,
   "metadata": {
    "ExecuteTime": {
     "end_time": "2021-10-31T17:54:52.799934Z",
     "start_time": "2021-10-31T17:54:52.724038Z"
    }
   },
   "outputs": [],
   "source": [
    "for k in range(3):\n",
    "    corr=corrs[k]\n",
    "    D_k=div_x[k].shape[1]\n",
    "    for i in range(0,D_k):\n",
    "        for j in range(i+1,D_k):\n",
    "            if abs(corr[i,j]) >= 0.8:\n",
    "                if j not in del_features[k]:\n",
    "                    del_features[k].append(j)                 \n"
   ]
  },
  {
   "cell_type": "code",
   "execution_count": 22,
   "metadata": {
    "ExecuteTime": {
     "end_time": "2021-10-31T17:54:52.876713Z",
     "start_time": "2021-10-31T17:54:52.801897Z"
    }
   },
   "outputs": [
    {
     "name": "stdout",
     "output_type": "stream",
     "text": [
      "deleted features because of the Correlation \n",
      "\n",
      "for the 0 th dataset\n",
      "2 have been deleted which are\n",
      "[5, 9]\n",
      "\n",
      "for the 1 th dataset\n",
      "3 have been deleted which are\n",
      "[6, 18, 21]\n",
      "\n",
      "for the 2 th dataset\n",
      "4 have been deleted which are\n",
      "[6, 21, 23, 29]\n",
      "\n"
     ]
    }
   ],
   "source": [
    "print(\"deleted features because of the Correlation \")\n",
    "print()\n",
    "for i in range(3):\n",
    "    print (\"for the \"+str(i)+\" th dataset\")\n",
    "    print(str(len(del_features[i]))+\" have been deleted which are\")\n",
    "    print(del_features[i])\n",
    "    print()"
   ]
  },
  {
   "cell_type": "code",
   "execution_count": 23,
   "metadata": {
    "ExecuteTime": {
     "end_time": "2021-10-31T17:54:53.017841Z",
     "start_time": "2021-10-31T17:54:52.879705Z"
    }
   },
   "outputs": [],
   "source": [
    "f_del_features(del_features)\n",
    "#We reinitialize del_features\n",
    "del_features= [[],[],[]]"
   ]
  },
  {
   "cell_type": "code",
   "execution_count": 24,
   "metadata": {
    "ExecuteTime": {
     "end_time": "2021-10-31T17:54:53.095514Z",
     "start_time": "2021-10-31T17:54:53.018806Z"
    }
   },
   "outputs": [
    {
     "name": "stdout",
     "output_type": "stream",
     "text": [
      "train 0 as a pri_jet_num :(99913, 16)\n",
      "test 0 as a pri_jet_num :(227458, 16)\n",
      "\n",
      "train 1 as a pri_jet_num :(77544, 19)\n",
      "test 1 as a pri_jet_num :(175338, 19)\n",
      "\n",
      "train 2 as a pri_jet_num :(72543, 26)\n",
      "test 2 as a pri_jet_num :(165442, 26)\n",
      "\n"
     ]
    }
   ],
   "source": [
    "for i in range(3):\n",
    "    print(\"train \" +str(i) +\" as a pri_jet_num :\" +str(div_x[i].shape))\n",
    "    print(\"test \" +str(i) +\" as a pri_jet_num :\" +str(div_x_test[i].shape))\n",
    "    print()"
   ]
  },
  {
   "cell_type": "code",
   "execution_count": 25,
   "metadata": {
    "ExecuteTime": {
     "end_time": "2021-10-31T17:54:53.221413Z",
     "start_time": "2021-10-31T17:54:53.096511Z"
    }
   },
   "outputs": [],
   "source": [
    "for i in range(3):\n",
    "    corrs[i]= np.corrcoef(div_x[i].T)\n",
    "for k in range(3):\n",
    "    corr=corrs[k]\n",
    "    D_k=div_x[k].shape[1]\n",
    "    for i in range(D_k):\n",
    "        for j in range(i+1,D_k):\n",
    "            if abs(corr[i,j]) >= 0.8:\n",
    "                print(\"i :\"+ str(i)+\" j :\"+ str(j))"
   ]
  },
  {
   "cell_type": "markdown",
   "metadata": {},
   "source": [
    "## All Together"
   ]
  },
  {
   "cell_type": "code",
   "execution_count": 26,
   "metadata": {
    "ExecuteTime": {
     "end_time": "2021-10-31T17:54:53.313649Z",
     "start_time": "2021-10-31T17:54:53.223409Z"
    }
   },
   "outputs": [],
   "source": [
    "### Transform tX by changing -999 with the mean of column\n",
    "def transformTX(tX):\n",
    "    N=tX.shape[0]\n",
    "    D=tX.shape[1]\n",
    "    tX2 = np.copy(tX)\n",
    "    tX2[tX2 == -999] = 0\n",
    "    means = np.mean(tX2, axis=0)\n",
    "    for i in range(N):\n",
    "        for j in range(D):\n",
    "            if tX[i][j] == -999:\n",
    "                tX[i][j] = means[j]\n",
    "    return tX"
   ]
  },
  {
   "cell_type": "code",
   "execution_count": 27,
   "metadata": {
    "ExecuteTime": {
     "end_time": "2021-10-31T17:54:53.407361Z",
     "start_time": "2021-10-31T17:54:53.314647Z"
    }
   },
   "outputs": [],
   "source": [
    "# tX[i] gives you the ith row, therefore the ith data point\n",
    "# tX[:,j] gives you the jth feature \n",
    "def rescaling(tX):\n",
    "    N=tX.shape[0]\n",
    "    D= tX.shape[1]\n",
    "    for n_feat in range(D):\n",
    "        data=tX[:,n_feat]\n",
    "        tX[:,n_feat]=(data - np.min(data)) / (np.max(data) - np.min(data))\n",
    "    return tX"
   ]
  },
  {
   "cell_type": "code",
   "execution_count": 28,
   "metadata": {
    "ExecuteTime": {
     "end_time": "2021-10-31T17:54:53.485998Z",
     "start_time": "2021-10-31T17:54:53.409358Z"
    }
   },
   "outputs": [],
   "source": [
    "### Apply log to smoothen data\n",
    "def log(tX):\n",
    "    N=tX.shape[0]\n",
    "    D=tX.shape[1]\n",
    "    for i in range(D):\n",
    "        for k in range(N):\n",
    "                tX[k][i] = np.log(1+tX[k][i])\n",
    "    return tX"
   ]
  },
  {
   "cell_type": "code",
   "execution_count": 29,
   "metadata": {
    "ExecuteTime": {
     "end_time": "2021-10-31T17:54:53.563479Z",
     "start_time": "2021-10-31T17:54:53.487959Z"
    }
   },
   "outputs": [],
   "source": [
    "### Apply log to smoothen data\n",
    "def maybeAddLog(tX):\n",
    "    N= tX.shape[0]\n",
    "    D= tX.shape[1]\n",
    "    tX2 = np.copy(tX)\n",
    "    mins = np.min(tX2, axis=0)\n",
    "    for i in range(D):\n",
    "        if mins[i]>0:\n",
    "            for k in range(N):\n",
    "                tX[k][i] = np.log(tX[k][i])\n",
    "    return tX"
   ]
  },
  {
   "cell_type": "code",
   "execution_count": 30,
   "metadata": {
    "ExecuteTime": {
     "end_time": "2021-10-31T17:54:53.655944Z",
     "start_time": "2021-10-31T17:54:53.564476Z"
    }
   },
   "outputs": [],
   "source": [
    "def standarize(tX):\n",
    "        N=tX.shape[0]\n",
    "        D=tX.shape[1]\n",
    "        tX2 = np.copy(tX)\n",
    "        mean = np.mean(tX2, axis=0)\n",
    "        std = np.std(tX2, axis=0)\n",
    "        for i in range(D):\n",
    "                for k in range(N):\n",
    "                    tX[k][i] = (tX[k][i] -mean[i])/std[i]\n",
    "        return tX\n"
   ]
  },
  {
   "cell_type": "code",
   "execution_count": 31,
   "metadata": {
    "ExecuteTime": {
     "end_time": "2021-10-31T17:55:13.370908Z",
     "start_time": "2021-10-31T17:55:13.302621Z"
    }
   },
   "outputs": [],
   "source": [
    "### Features Expansion to capture non linear data\n",
    "def featuresExpansion(degree, tX):\n",
    "    N=tX.shape[0]\n",
    "    D=tX.shape[1]\n",
    "    res = np.zeros(N).reshape(-1,1)\n",
    "    for i in range(D):\n",
    "        for d in range(1,degree+1):\n",
    "            col = tX[:,i]**d\n",
    "            col = col.reshape(-1,1)\n",
    "            res = np.hstack((res, col))\n",
    "    res = np.delete(res, 0,1)\n",
    "    return res"
   ]
  },
  {
   "cell_type": "code",
   "execution_count": 32,
   "metadata": {
    "ExecuteTime": {
     "end_time": "2021-10-31T17:55:44.180467Z",
     "start_time": "2021-10-31T17:55:44.118055Z"
    }
   },
   "outputs": [],
   "source": [
    "def transformations(x,deg):\n",
    "    for i in range (3):\n",
    "        x[i] = featuresExpansion(deg[i], \n",
    "                                 maybeAddLog(\n",
    "                                 transformTX(x[i])))"
   ]
  },
  {
   "cell_type": "code",
   "execution_count": 33,
   "metadata": {
    "ExecuteTime": {
     "end_time": "2021-10-31T18:05:46.416611Z",
     "start_time": "2021-10-31T18:05:46.338231Z"
    }
   },
   "outputs": [],
   "source": [
    "def transformations_2(x,deg):\n",
    "    for i in range (3):\n",
    "        x[i] = featuresExpansion(deg, \n",
    "                                 standarize(\n",
    "                                 log(\n",
    "                                 rescaling(\n",
    "                                 transformTX(x[i])))))"
   ]
  },
  {
   "cell_type": "code",
   "execution_count": 34,
   "metadata": {
    "ExecuteTime": {
     "start_time": "2021-10-31T18:10:25.771Z"
    },
    "scrolled": false
   },
   "outputs": [],
   "source": [
    "deg = 7\n",
    "transformations_2(div_x,deg)\n",
    "transformations_2(div_x_test,deg)"
   ]
  },
  {
   "cell_type": "markdown",
   "metadata": {},
   "source": [
    "# Linear Regression"
   ]
  },
  {
   "cell_type": "markdown",
   "metadata": {},
   "source": [
    "Remark: We are assuming that we DO NOT have an offset and that w = {w1, w2, ... , wD} where D=30 in our case"
   ]
  },
  {
   "cell_type": "code",
   "execution_count": 35,
   "metadata": {
    "ExecuteTime": {
     "end_time": "2021-10-31T16:35:48.328269Z",
     "start_time": "2021-10-31T16:35:48.192440Z"
    }
   },
   "outputs": [],
   "source": [
    "### Helper function to select a small set of data (Given in lab2)\n",
    "def batch_iter(y, tx, batch_size, num_batches=1, shuffle=True):\n",
    "    \"\"\"\n",
    "    Generate a minibatch iterator for a dataset.\n",
    "    Takes as input two iterables (here the output desired values 'y' and the input data 'tx')\n",
    "    Outputs an iterator which gives mini-batches of `batch_size` matching elements from `y` and `tx`.\n",
    "    Data can be randomly shuffled to avoid ordering in the original data messing with the randomness of the minibatches.\n",
    "    \"\"\"\n",
    "    data_size = len(y)\n",
    "\n",
    "    if shuffle:\n",
    "        shuffle_indices = np.random.permutation(np.arange(data_size))\n",
    "        shuffled_y = y[shuffle_indices]\n",
    "        shuffled_tx = tx[shuffle_indices]\n",
    "    else:\n",
    "        shuffled_y = y\n",
    "        shuffled_tx = tx\n",
    "    for batch_num in range(num_batches):\n",
    "        start_index = batch_num * batch_size\n",
    "        end_index = min((batch_num + 1) * batch_size, data_size)\n",
    "        if start_index != end_index:\n",
    "            yield shuffled_y[start_index:end_index], shuffled_tx[start_index:end_index]"
   ]
  },
  {
   "cell_type": "code",
   "execution_count": 94,
   "metadata": {
    "ExecuteTime": {
     "end_time": "2021-10-31T16:35:48.451619Z",
     "start_time": "2021-10-31T16:35:48.330264Z"
    }
   },
   "outputs": [],
   "source": [
    "### Loss function that we use (this function is not used directly but only its gradient)\n",
    "def compute_loss_lin(y, tX, w):\n",
    "    #Calculate the loss using mse\n",
    "    N= tX.shape[0]\n",
    "    D=tX.shape[1]\n",
    "    e = y - (tX @ w)\n",
    "    return (1/(2*N)) * (e.T @ e)"
   ]
  },
  {
   "cell_type": "code",
   "execution_count": 95,
   "metadata": {
    "ExecuteTime": {
     "end_time": "2021-10-31T16:35:48.593967Z",
     "start_time": "2021-10-31T16:35:48.453635Z"
    }
   },
   "outputs": [],
   "source": [
    "### Compute the gradient\n",
    "def compute_gradient_lin(y, tX, w):\n",
    "    N= tX.shape[0]\n",
    "    D=tX.shape[1]\n",
    "    e = y - (tX @ w)\n",
    "    return (-1/N) * (tX.T @ e)"
   ]
  },
  {
   "cell_type": "code",
   "execution_count": 96,
   "metadata": {
    "ExecuteTime": {
     "end_time": "2021-10-31T16:35:48.718210Z",
     "start_time": "2021-10-31T16:35:48.597918Z"
    }
   },
   "outputs": [],
   "source": [
    "### Gradient descent algorithm: the function returns best w\n",
    "def least_squares_GD(y, tX, initial_w, max_iters, gamma):\n",
    "    N= tX.shape[0]\n",
    "    D=tX.shape[1]\n",
    "    w = initial_w\n",
    "    for _ in range(max_iters):\n",
    "        grad = compute_gradient_lin(y,tX,w)\n",
    "        w = w - gamma * grad\n",
    "    return w"
   ]
  },
  {
   "cell_type": "code",
   "execution_count": 80,
   "metadata": {
    "ExecuteTime": {
     "end_time": "2021-10-31T16:35:47.811249Z",
     "start_time": "2021-10-31T16:35:47.719895Z"
    }
   },
   "outputs": [],
   "source": [
    "batch_size_linear = 1"
   ]
  },
  {
   "cell_type": "code",
   "execution_count": 81,
   "metadata": {
    "ExecuteTime": {
     "end_time": "2021-10-31T16:35:47.938411Z",
     "start_time": "2021-10-31T16:35:47.814709Z"
    }
   },
   "outputs": [],
   "source": [
    "### Stochastic gradient descent algorithm: the function returns best w\n",
    "def least_squares_SGD(y, tX, initial_w, max_iters, gamma):\n",
    "    N= tX.shape[0]\n",
    "    D=tX.shape[1]\n",
    "    iterate = next(batch_iter(y, tX, batch_size_linear, num_batches=1, shuffle=True))\n",
    "    y1 = iterate[0]\n",
    "    tX1 = iterate[1]\n",
    "    w = initial_w\n",
    "    for n_iter in range(max_iters):\n",
    "        grad = compute_gradient_lin(y1,tX1,w)\n",
    "        w = w - gamma * grad\n",
    "    return w"
   ]
  },
  {
   "cell_type": "code",
   "execution_count": 82,
   "metadata": {
    "ExecuteTime": {
     "end_time": "2021-10-31T18:03:37.755076Z",
     "start_time": "2021-10-31T17:58:49.918Z"
    }
   },
   "outputs": [],
   "source": [
    "### Least squares regression using normal equations\n",
    "def least_squares(y, tX):\n",
    "    N= tX.shape[0]\n",
    "    D=tX.shape[1]\n",
    "    return np.linalg.solve(tX.T@tX,tX.T@y)"
   ]
  },
  {
   "cell_type": "markdown",
   "metadata": {
    "heading_collapsed": true
   },
   "source": [
    "# Ridge Regression"
   ]
  },
  {
   "cell_type": "code",
   "execution_count": 86,
   "metadata": {
    "ExecuteTime": {
     "end_time": "2021-10-31T16:36:07.167032Z",
     "start_time": "2021-10-31T16:36:07.061707Z"
    },
    "hidden": true
   },
   "outputs": [],
   "source": [
    "### Ridge regression using normal equations \n",
    "def ridge_regression(y, tX, lambda_):\n",
    "    N= tX.shape[0]\n",
    "    D=tX.shape[1]\n",
    "    lambda_prime = 2 * N * lambda_\n",
    "    identity = np.eye(D)\n",
    "    LHS = (tX.T@tX) + lambda_prime*identity\n",
    "    RHS = tX.T@y\n",
    "    \n",
    "    return np.linalg.solve(LHS, RHS)"
   ]
  },
  {
   "cell_type": "markdown",
   "metadata": {
    "heading_collapsed": true
   },
   "source": [
    "# Logistic Regression"
   ]
  },
  {
   "cell_type": "code",
   "execution_count": 43,
   "metadata": {
    "ExecuteTime": {
     "end_time": "2021-10-31T16:15:40.576258Z",
     "start_time": "2021-10-31T16:15:40.439453Z"
    },
    "hidden": true
   },
   "outputs": [],
   "source": [
    "### Helper function to compute sigmoid\n",
    "def sigmoid(t):\n",
    "    \"\"\"apply sigmoid function on t.\"\"\"\n",
    "    return 1.0 / (1 + np.exp(-t))"
   ]
  },
  {
   "cell_type": "code",
   "execution_count": 44,
   "metadata": {
    "ExecuteTime": {
     "end_time": "2021-10-31T16:36:18.118176Z",
     "start_time": "2021-10-31T16:36:18.023718Z"
    },
    "hidden": true
   },
   "outputs": [],
   "source": [
    "def compute_logistic_loss(y, tX, w):\n",
    "    \"\"\"compute the cost by negative log likelihood.\"\"\"\n",
    "    N= tX.shape[0]\n",
    "    D=tX.shape[1]\n",
    "    val = y.T @ np.log(sigmoid(tx@w)) + (1-y.T) @ np.log(1-sigmoid(tx@w))\n",
    "    return np.squeeze(- val)"
   ]
  },
  {
   "cell_type": "code",
   "execution_count": 45,
   "metadata": {
    "ExecuteTime": {
     "end_time": "2021-10-31T16:15:40.810654Z",
     "start_time": "2021-10-31T16:15:40.705816Z"
    },
    "hidden": true
   },
   "outputs": [],
   "source": [
    "### Compute the gradient of  \n",
    "def compute_gradient_log(y, tx, w):\n",
    "    return tx.T @ (sigmoid(tx@w) - y)"
   ]
  },
  {
   "cell_type": "code",
   "execution_count": 46,
   "metadata": {
    "ExecuteTime": {
     "end_time": "2021-10-31T16:15:40.904356Z",
     "start_time": "2021-10-31T16:15:40.814123Z"
    },
    "hidden": true
   },
   "outputs": [],
   "source": [
    "### Logistic regression using gradient descent\n",
    "def logistic_regression_GD(y, tx, initial_w, max_iters, gamma):\n",
    "    w = initial_w\n",
    "    for _ in range(max_iters):\n",
    "        gradient = compute_gradient_log(y, tx, w)\n",
    "        w = w - gamma * gradient\n",
    "    \n",
    "    return w"
   ]
  },
  {
   "cell_type": "code",
   "execution_count": 47,
   "metadata": {
    "ExecuteTime": {
     "end_time": "2021-10-31T16:15:41.028458Z",
     "start_time": "2021-10-31T16:15:40.907463Z"
    },
    "hidden": true
   },
   "outputs": [],
   "source": [
    "batch_size_log = 1"
   ]
  },
  {
   "cell_type": "code",
   "execution_count": 48,
   "metadata": {
    "ExecuteTime": {
     "end_time": "2021-10-31T16:36:28.270850Z",
     "start_time": "2021-10-31T16:36:28.146682Z"
    },
    "hidden": true
   },
   "outputs": [],
   "source": [
    "### Logisitic regression using stochastic gradient descent \n",
    "def logistic_regression_SGD(y, tx, initial_w, max_iters, gamma):\n",
    "    N= tX.shape[0]\n",
    "    D=tX.shape[1]\n",
    "\n",
    "    iterate = next(batch_iter(y, tx, batch_size_log, num_batches=1, shuffle=True))\n",
    "    y1 = iterate[0]\n",
    "    tx1 = iterate[1]\n",
    "    w = initial_w\n",
    "    \n",
    "    for _ in range(max_iters):\n",
    "        gradient = compute_gradient_log(y1, tx1, w)\n",
    "        w = w - gamma * gradient\n",
    "        \n",
    "    return w    "
   ]
  },
  {
   "cell_type": "markdown",
   "metadata": {
    "heading_collapsed": true
   },
   "source": [
    "# Regularized Logistic Regression"
   ]
  },
  {
   "cell_type": "code",
   "execution_count": 49,
   "metadata": {
    "ExecuteTime": {
     "end_time": "2021-10-31T16:52:35.958168Z",
     "start_time": "2021-10-31T16:52:35.819414Z"
    },
    "hidden": true
   },
   "outputs": [],
   "source": [
    "### Compute regularized gradient\n",
    "def compute_gradient_reg(y, tx, w, lambda_):\n",
    "    return compute_gradient_log(y, tx, w) + lambda_*w"
   ]
  },
  {
   "cell_type": "code",
   "execution_count": 50,
   "metadata": {
    "ExecuteTime": {
     "end_time": "2021-10-31T16:15:41.357690Z",
     "start_time": "2021-10-31T16:15:41.251093Z"
    },
    "hidden": true
   },
   "outputs": [],
   "source": [
    "### Regularized Logistic regression using gradient descent\n",
    "def reg_logistic_regression_GD(y, tx, lambda_, initial_w, max_iters, gamma):\n",
    "    w = initial_w\n",
    "    for _ in range(max_iters):\n",
    "        gradient = compute_gradient_reg(y, tx, w, lambda_)\n",
    "        w = w - gamma * gradient\n",
    "    return w"
   ]
  },
  {
   "cell_type": "code",
   "execution_count": 51,
   "metadata": {
    "ExecuteTime": {
     "end_time": "2021-10-31T16:15:41.497136Z",
     "start_time": "2021-10-31T16:15:41.360219Z"
    },
    "hidden": true
   },
   "outputs": [],
   "source": [
    "batch_size_reg = 1"
   ]
  },
  {
   "cell_type": "code",
   "execution_count": 52,
   "metadata": {
    "ExecuteTime": {
     "end_time": "2021-10-31T16:15:41.621345Z",
     "start_time": "2021-10-31T16:15:41.502154Z"
    },
    "hidden": true
   },
   "outputs": [],
   "source": [
    "### Regularized Logisitic regression using stochastic gradient descent \n",
    "def reg_logistic_regression_SGD(y, tx, lambda_, initial_w, max_iters, gamma):\n",
    "    iterate = next(batch_iter(t, tx, batch_size_reg, num_batches=1, shuffle=True))\n",
    "    y1 = iterate[0]\n",
    "    tx1 = iterate[1]\n",
    "    w = initial_w\n",
    "    \n",
    "    for _ in range(max_iters):\n",
    "        gradient = compute_gradient_reg(y1, tx1, w, lambda_)\n",
    "        w = w - gamma * gradient\n",
    "        \n",
    "    return w "
   ]
  },
  {
   "cell_type": "markdown",
   "metadata": {
    "heading_collapsed": true
   },
   "source": [
    "# Prediction logistic regression"
   ]
  },
  {
   "cell_type": "code",
   "execution_count": 53,
   "metadata": {
    "ExecuteTime": {
     "end_time": "2021-10-31T16:15:41.763110Z",
     "start_time": "2021-10-31T16:15:41.625362Z"
    },
    "hidden": true
   },
   "outputs": [],
   "source": [
    "def predict_labels_logistic(weights, data):\n",
    "    \"\"\"Generates class predictions given weights, and a test data matrix on a logistic regression\"\"\"\n",
    "    y_pred = np.dot(data, weights)\n",
    "    for i in range(len(y_pred)):\n",
    "        y_pred[i] = sigmoid(y_pred[i])\n",
    "    y_pred[np.where(y_pred < 0.5)] = -1\n",
    "    y_pred[np.where(y_pred >= 0.5)] = 1\n",
    "    \n",
    "    return y_pred"
   ]
  },
  {
   "cell_type": "markdown",
   "metadata": {},
   "source": [
    "# Cross validation"
   ]
  },
  {
   "cell_type": "code",
   "execution_count": 54,
   "metadata": {
    "ExecuteTime": {
     "end_time": "2021-10-31T18:03:37.756073Z",
     "start_time": "2021-10-31T17:58:53.339Z"
    }
   },
   "outputs": [],
   "source": [
    "def build_k_indices(y, k_fold, seed):\n",
    "    \"\"\"build k indices for k-fold.\"\"\"\n",
    "    N= y.shape[0]\n",
    "    num_row = N\n",
    "    interval = int(num_row / k_fold)\n",
    "    np.random.seed(seed)\n",
    "    indices = np.random.permutation(num_row)\n",
    "    k_indices = [indices[k * interval: (k + 1) * interval] for k in range(k_fold)]\n",
    "    return np.array(k_indices)"
   ]
  },
  {
   "cell_type": "code",
   "execution_count": 98,
   "metadata": {
    "ExecuteTime": {
     "end_time": "2021-10-31T18:03:37.757070Z",
     "start_time": "2021-10-31T17:58:55.618Z"
    }
   },
   "outputs": [],
   "source": [
    "def cross_validation(y, x, k_indices, k, lambda_, degree):\n",
    "    \"\"\"return the loss of ridge regression.\"\"\"\n",
    "    # get k'th subgroup in test, others in train\n",
    "    te_indice = k_indices[k]\n",
    "    tr_indice = k_indices[~(np.arange(k_indices.shape[0]) == k)]\n",
    "    tr_indice = tr_indice.reshape(-1)\n",
    "    y_te = y[te_indice]\n",
    "    y_tr = y[tr_indice]\n",
    "    x_te = x[te_indice]\n",
    "    x_tr = x[tr_indice]\n",
    "    \n",
    "    # ridge regression\n",
    "    #w = ridge_regression(y_tr, x_tr, lambda_)\n",
    "    \n",
    "    w = least_squares(y_tr, x_tr)\n",
    "    # Linear GD\n",
    "    #w = least_squares_GD(y_tr, x_tr, np.zeros(x_tr.shape[1]), 50, lambda_)\n",
    "    y_pred_tr = predict_labels(w, x_tr) \n",
    "    y_pred_te = predict_labels(w, x_te)\n",
    "    # Compare y_pred with y_te\n",
    "    acc_tr = 0\n",
    "    acc_te = 0\n",
    "    for i in range(y_tr.shape[0]):\n",
    "        if y_tr[i] == y_pred_tr[i]:\n",
    "            acc_tr += 1\n",
    "    acc_tr = acc_tr/y_tr.shape[0]\n",
    "    for i in range(y_te.shape[0]):\n",
    "        if y_te[i] == y_pred_te[i]:\n",
    "            acc_te += 1\n",
    "    acc_te = acc_te/y_te.shape[0]\n",
    "    \n",
    "    return acc_tr, acc_te, w"
   ]
  },
  {
   "cell_type": "code",
   "execution_count": 99,
   "metadata": {
    "ExecuteTime": {
     "end_time": "2021-10-31T18:03:37.758067Z",
     "start_time": "2021-10-31T17:58:58.742Z"
    }
   },
   "outputs": [],
   "source": [
    "### Defining variables\n",
    "seed = 6 \n",
    "k_fold = 4\n",
    "lambdas = np.logspace(-4, 0, 30)"
   ]
  },
  {
   "cell_type": "code",
   "execution_count": 100,
   "metadata": {
    "ExecuteTime": {
     "end_time": "2021-10-31T17:51:56.019547Z",
     "start_time": "2021-10-31T17:51:55.964490Z"
    }
   },
   "outputs": [],
   "source": [
    "degree=6"
   ]
  },
  {
   "cell_type": "code",
   "execution_count": 101,
   "metadata": {
    "ExecuteTime": {
     "end_time": "2021-10-31T18:03:37.760063Z",
     "start_time": "2021-10-31T17:59:05.515Z"
    }
   },
   "outputs": [],
   "source": [
    "from plots import cross_validation_visualization\n",
    "\n",
    "def cross_validation_demo(n_pri_jet):\n",
    "    # split data in k fold\n",
    "    y=div_y[n_pri_jet]\n",
    "    tX= div_x[n_pri_jet]\n",
    "    k_indices = build_k_indices(y, k_fold, seed)\n",
    "    \n",
    "    # define lists to store the loss of training data and test data\n",
    "    mean_acc_tr = []\n",
    "    mean_acc_te = []\n",
    "    \n",
    "    # cross validation\n",
    "    for lambda_ in lambdas:\n",
    "        mean_acc_tr_tmp = []\n",
    "        mean_acc_te_tmp = []\n",
    "        \n",
    "        for k in range(k_fold):\n",
    "            acc_tr, acc_te,_ = cross_validation(y, tX, k_indices, k, lambda_, degree)\n",
    "            mean_acc_tr_tmp.append(acc_tr)\n",
    "            mean_acc_te_tmp.append(acc_te)\n",
    "        mean_acc_tr.append(np.mean(mean_acc_tr_tmp))\n",
    "        mean_acc_te.append(np.mean(mean_acc_te_tmp))\n",
    "    print(max(mean_acc_te))\n",
    "    cross_validation_visualization(lambdas, mean_acc_tr, mean_acc_te)\n"
   ]
  },
  {
   "cell_type": "code",
   "execution_count": 102,
   "metadata": {
    "ExecuteTime": {
     "end_time": "2021-10-31T18:03:37.761059Z",
     "start_time": "2021-10-31T17:59:59.542Z"
    },
    "scrolled": true
   },
   "outputs": [
    {
     "name": "stdout",
     "output_type": "stream",
     "text": [
      "0.8411001681479702\n",
      "0.7985401836376768\n",
      "0.8241108354011579\n"
     ]
    },
    {
     "data": {
      "image/png": "[encoded data removed]",
      "text/plain": [
       "<Figure size 432x288 with 1 Axes>"
      ]
     },
     "metadata": {
      "needs_background": "light"
     },
     "output_type": "display_data"
    }
   ],
   "source": [
    "for j in range(3):\n",
    "    cross_validation_demo(j)"
   ]
  },
  {
   "cell_type": "markdown",
   "metadata": {},
   "source": [
    "# Generate predictions and save ouput in csv format for submission:"
   ]
  },
  {
   "cell_type": "code",
   "execution_count": 57,
   "metadata": {
    "ExecuteTime": {
     "end_time": "2021-10-31T16:16:15.377849Z",
     "start_time": "2021-10-31T16:16:15.270846Z"
    },
    "scrolled": true
   },
   "outputs": [],
   "source": [
    "OUTPUT_PATH = r\"C:\\Users\\USER\\Desktop\\MA1\\ML\\output.csv\" # TODO: fill in desired name of output file for submission"
   ]
  },
  {
   "cell_type": "code",
   "execution_count": 52,
   "metadata": {
    "ExecuteTime": {
     "end_time": "2021-10-31T16:16:15.486787Z",
     "start_time": "2021-10-31T16:16:15.380493Z"
    }
   },
   "outputs": [
    {
     "name": "stdout",
     "output_type": "stream",
     "text": [
      "train\n",
      "(99913, 112)\n",
      "(99913,)\n",
      "\n",
      "test\n",
      "(227458, 112)\n",
      "\n",
      "train\n",
      "(77544, 133)\n",
      "(77544,)\n",
      "\n",
      "test\n",
      "(175338, 133)\n",
      "\n",
      "train\n",
      "(72543, 182)\n",
      "(72543,)\n",
      "\n",
      "test\n",
      "(165442, 182)\n",
      "\n"
     ]
    }
   ],
   "source": [
    "for i in range(3):\n",
    "    print('train')\n",
    "    print(div_x[i].shape)\n",
    "    print(div_y[i].shape)\n",
    "    print()\n",
    "    print('test')\n",
    "    print(div_x_test[i].shape)\n",
    "    print()"
   ]
  },
  {
   "cell_type": "code",
   "execution_count": 53,
   "metadata": {
    "ExecuteTime": {
     "end_time": "2021-10-31T16:16:15.753417Z",
     "start_time": "2021-10-31T16:16:15.489510Z"
    }
   },
   "outputs": [],
   "source": [
    "###IF WE ARE USING LEAST_SQUARES \n",
    "weights= [[],[],[]]\n",
    "pred=  [[],[],[]]\n",
    "for i in range(3):\n",
    "    weights[i] = least_squares(div_y[i],div_x[i])\n",
    "    pred[i] = predict_labels(weights[i],div_x_test[i] )"
   ]
  },
  {
   "cell_type": "code",
   "execution_count": 54,
   "metadata": {
    "ExecuteTime": {
     "end_time": "2021-10-31T16:16:17.013104Z",
     "start_time": "2021-10-31T16:16:15.756411Z"
    }
   },
   "outputs": [],
   "source": [
    "y_pred= []\n",
    "ctr= [0,0,0]\n",
    "for i in range(N_test):\n",
    "    pri_jet_num=int(tX_test[i,jet_num_col])\n",
    "    if (pri_jet_num in [0,1]): \n",
    "        idx= ctr[pri_jet_num]\n",
    "        ctr[pri_jet_num]+=1\n",
    "        x= pred[pri_jet_num][idx]\n",
    "        y_pred.append(x)\n",
    "    if (pri_jet_num in [2,3]):\n",
    "        idx= ctr[2]\n",
    "        ctr[2]+=1\n",
    "        x= pred[2][idx]\n",
    "        y_pred.append(x)\n",
    "    \n"
   ]
  },
  {
   "cell_type": "code",
   "execution_count": 55,
   "metadata": {
    "ExecuteTime": {
     "end_time": "2021-10-31T16:16:17.135704Z",
     "start_time": "2021-10-31T16:16:17.016244Z"
    }
   },
   "outputs": [
    {
     "data": {
      "text/plain": [
       "568238"
      ]
     },
     "execution_count": 55,
     "metadata": {},
     "output_type": "execute_result"
    }
   ],
   "source": [
    "len(y_pred)"
   ]
  },
  {
   "cell_type": "code",
   "execution_count": 73,
   "metadata": {
    "ExecuteTime": {
     "end_time": "2021-10-31T16:16:58.598740Z",
     "start_time": "2021-10-31T16:16:17.139199Z"
    }
   },
   "outputs": [
    {
     "name": "stderr",
     "output_type": "stream",
     "text": [
      "<ipython-input-52-336880a42340>:4: RuntimeWarning: overflow encountered in exp\n",
      "  return 1.0 / (1 + np.exp(-t))\n"
     ]
    }
   ],
   "source": [
    "###IF WE ARE USING LOGISTIC REGRESSION\n",
    "y[y == -1] = 0  #We set y's where it is -1 to 0 in order to work with probabilities\n",
    "initial_w = np.random.randint(-1000, 1000, D)\n",
    "max_iters = 1000\n",
    "gamma = 1e-10\n",
    "weights = logistic_regression_GD(y, tX, initial_w, max_iters, gamma)\n",
    "y_pred = predict_labels_logistic(weights, tX_test)"
   ]
  },
  {
   "cell_type": "code",
   "execution_count": 58,
   "metadata": {
    "ExecuteTime": {
     "end_time": "2021-10-31T16:17:01.168200Z",
     "start_time": "2021-10-31T16:16:58.601736Z"
    }
   },
   "outputs": [],
   "source": [
    "#Create submission\n",
    "create_csv_submission(ids_test, y_pred, OUTPUT_PATH)"
   ]
  }
 ],
 "metadata": {
  "kernelspec": {
   "display_name": "Python 3",
   "language": "python",
   "name": "python3"
  },
  "language_info": {
   "codemirror_mode": {
    "name": "ipython",
    "version": 3
   },
   "file_extension": ".py",
   "mimetype": "text/x-python",
   "name": "python",
   "nbconvert_exporter": "python",
   "pygments_lexer": "ipython3",
   "version": "3.8.5"
  },
  "toc": {
   "base_numbering": 1,
   "nav_menu": {},
   "number_sections": true,
   "sideBar": true,
   "skip_h1_title": false,
   "title_cell": "Table of Contents",
   "title_sidebar": "Contents",
   "toc_cell": false,
   "toc_position": {},
   "toc_section_display": true,
   "toc_window_display": false
  }
 },
 "nbformat": 4,
 "nbformat_minor": 4
}
