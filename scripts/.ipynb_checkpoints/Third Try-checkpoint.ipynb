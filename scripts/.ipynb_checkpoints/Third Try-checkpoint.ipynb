{
 "cells": [
  {
   "cell_type": "code",
   "execution_count": 1,
   "metadata": {
    "ExecuteTime": {
     "end_time": "2021-11-01T02:00:24.993818Z",
     "start_time": "2021-11-01T02:00:22.459028Z"
    }
   },
   "outputs": [],
   "source": [
    "# Useful starting lines\n",
    "%matplotlib inline\n",
    "import numpy as np\n",
    "import matplotlib.pyplot as plt\n",
    "%load_ext autoreload\n",
    "%autoreload 2\n",
    "from matplotlib import pyplot as plt \n",
    "import seaborn as sns"
   ]
  },
  {
   "cell_type": "markdown",
   "metadata": {},
   "source": [
    "# Load the  data into feature matrix, class labels, and event ids:"
   ]
  },
  {
   "cell_type": "code",
   "execution_count": 2,
   "metadata": {
    "ExecuteTime": {
     "end_time": "2021-11-01T02:00:33.172475Z",
     "start_time": "2021-11-01T02:00:25.838744Z"
    }
   },
   "outputs": [],
   "source": [
    "from proj1_helpers import *\n",
    "#Change the path according to where is your data \n",
    "DATA_TRAIN_PATH = r\"C:\\Users\\USER\\Desktop\\MA1\\ML\\train.csv\" \n",
    "y, tX, ids = load_csv_data(DATA_TRAIN_PATH)"
   ]
  },
  {
   "cell_type": "code",
   "execution_count": 3,
   "metadata": {
    "ExecuteTime": {
     "end_time": "2021-11-01T02:00:50.619874Z",
     "start_time": "2021-11-01T02:00:33.174439Z"
    }
   },
   "outputs": [],
   "source": [
    "DATA_TEST_PATH = r\"C:\\Users\\USER\\Desktop\\MA1\\ML\\test.csv\" # TODO: download train data and supply path here \n",
    "_, tX_test, ids_test = load_csv_data(DATA_TEST_PATH)"
   ]
  },
  {
   "cell_type": "code",
   "execution_count": 4,
   "metadata": {
    "ExecuteTime": {
     "end_time": "2021-11-01T02:00:50.714616Z",
     "start_time": "2021-11-01T02:00:50.623858Z"
    }
   },
   "outputs": [],
   "source": [
    "### Define variables for the dimensions of the data\n",
    "N = tX.shape[0]\n",
    "D = tX.shape[1]\n",
    "\n",
    "#the number of the feature that contains the pri_jet_number\n",
    "jet_num_col=22"
   ]
  },
  {
   "cell_type": "markdown",
   "metadata": {},
   "source": [
    "# Data Pre-Processing"
   ]
  },
  {
   "cell_type": "markdown",
   "metadata": {},
   "source": [
    "Because we will partition the data, and then add/delete features, we will fix the column of the jet_num_col to the first column"
   ]
  },
  {
   "cell_type": "code",
   "execution_count": 6,
   "metadata": {
    "ExecuteTime": {
     "end_time": "2021-11-01T02:00:50.889150Z",
     "start_time": "2021-11-01T02:00:50.717608Z"
    }
   },
   "outputs": [],
   "source": [
    "# swapping the column with index of\n",
    "# original array\n",
    "tX[:, [jet_num_col, 0]] = tX[:, [0, jet_num_col]]\n",
    "tX_test[:, [jet_num_col, 0]] = tX_test[:, [0, jet_num_col]]\n"
   ]
  },
  {
   "cell_type": "code",
   "execution_count": 7,
   "metadata": {
    "ExecuteTime": {
     "end_time": "2021-11-01T02:00:51.014817Z",
     "start_time": "2021-11-01T02:00:50.896133Z"
    }
   },
   "outputs": [],
   "source": [
    "jet_num_col=0"
   ]
  },
  {
   "cell_type": "markdown",
   "metadata": {
    "heading_collapsed": true
   },
   "source": [
    "## Def func"
   ]
  },
  {
   "cell_type": "code",
   "execution_count": 8,
   "metadata": {
    "ExecuteTime": {
     "end_time": "2021-10-28T23:16:53.778433Z",
     "start_time": "2021-10-28T23:16:53.700290Z"
    },
    "hidden": true
   },
   "outputs": [],
   "source": [
    "### Transform tX by changing -999 with the mean of column\n",
    "def transformTX(tX):\n",
    "    tX2 = np.copy(tX)\n",
    "    tX2[tX2 == -999] = 0\n",
    "    means = np.mean(tX2, axis=0)\n",
    "    for i in range(N):\n",
    "        for j in range(D):\n",
    "            if tX[i][j] == -999:\n",
    "                tX[i][j] = means[j]\n",
    "    return tX"
   ]
  },
  {
   "cell_type": "code",
   "execution_count": 9,
   "metadata": {
    "ExecuteTime": {
     "end_time": "2021-10-28T23:16:53.856504Z",
     "start_time": "2021-10-28T23:16:53.778433Z"
    },
    "hidden": true
   },
   "outputs": [],
   "source": [
    "### Apply log to smoothen data\n",
    "def maybeAddLog(tX):\n",
    "    tX2 = np.copy(tX)\n",
    "    mins = np.min(tX2, axis=0)\n",
    "    for i in range(D):\n",
    "        if mins[i]>0:\n",
    "            for k in range(N):\n",
    "                tX[k][i] = np.log(tX[k][i])\n",
    "    return tX"
   ]
  },
  {
   "cell_type": "code",
   "execution_count": 10,
   "metadata": {
    "ExecuteTime": {
     "end_time": "2021-10-28T23:16:53.935963Z",
     "start_time": "2021-10-28T23:16:53.856504Z"
    },
    "hidden": true
   },
   "outputs": [],
   "source": [
    "### Features Expansion to capture non linear data\n",
    "def featuresExpansion(tX, degree):\n",
    "    res = np.zeros(N).reshape(-1,1)\n",
    "    for i in range(D):\n",
    "        for d in range(1,degree+1):\n",
    "            col = tX[:,i]**d\n",
    "            col = col.reshape(-1,1)\n",
    "            res = np.hstack((res, col))\n",
    "    res = np.delete(res, 0,1)\n",
    "    return res"
   ]
  },
  {
   "cell_type": "markdown",
   "metadata": {},
   "source": [
    "## Partitioning the data"
   ]
  },
  {
   "cell_type": "code",
   "execution_count": 11,
   "metadata": {
    "ExecuteTime": {
     "end_time": "2021-11-01T02:00:51.110561Z",
     "start_time": "2021-11-01T02:00:51.018803Z"
    }
   },
   "outputs": [],
   "source": [
    "#div data is a table (that will be changed into a numpy) that will contains the datasets according to their pri_jet_num\n",
    "div_x= [[],[],[]]\n",
    "div_y=[[],[],[]]\n",
    "div_ids=[[],[],[]]\n"
   ]
  },
  {
   "cell_type": "code",
   "execution_count": 12,
   "metadata": {
    "ExecuteTime": {
     "end_time": "2021-10-28T23:16:54.061004Z",
     "start_time": "2021-10-28T23:16:53.998412Z"
    }
   },
   "outputs": [],
   "source": [
    "# tX[i] gives you the ith row, therefore the ith data point\n",
    "# tX[:,j] gives you the jth feature "
   ]
  },
  {
   "cell_type": "code",
   "execution_count": 13,
   "metadata": {
    "ExecuteTime": {
     "end_time": "2021-11-01T02:00:51.570712Z",
     "start_time": "2021-11-01T02:00:51.112555Z"
    }
   },
   "outputs": [],
   "source": [
    "#For every data point\n",
    "for i in range (N):\n",
    "    #we extract its pri_jet_num\n",
    "    pri_jet_num=int(tX[i,jet_num_col])\n",
    "    #we assign it to the new data set based on its pri_jet_num\n",
    "    if (pri_jet_num in [0,1]): \n",
    "        div_x[pri_jet_num].append(tX[i])\n",
    "        div_y[pri_jet_num].append(y[i])\n",
    "        div_ids[pri_jet_num].append(ids[i])\n",
    "        \n",
    "    if (pri_jet_num in [2,3]):\n",
    "        div_x[2].append(tX[i]) \n",
    "        div_y[2].append(y[i])\n",
    "        div_ids[2].append(ids[i])       "
   ]
  },
  {
   "cell_type": "code",
   "execution_count": 14,
   "metadata": {
    "ExecuteTime": {
     "end_time": "2021-11-01T02:00:51.949660Z",
     "start_time": "2021-11-01T02:00:51.572670Z"
    }
   },
   "outputs": [
    {
     "name": "stderr",
     "output_type": "stream",
     "text": [
      "<ipython-input-14-1258f706585d>:7: VisibleDeprecationWarning: Creating an ndarray from ragged nested sequences (which is a list-or-tuple of lists-or-tuples-or ndarrays with different lengths or shapes) is deprecated. If you meant to do this, you must specify 'dtype=object' when creating the ndarray\n",
      "  div_x=np.array(div_x)\n",
      "<ipython-input-14-1258f706585d>:8: VisibleDeprecationWarning: Creating an ndarray from ragged nested sequences (which is a list-or-tuple of lists-or-tuples-or ndarrays with different lengths or shapes) is deprecated. If you meant to do this, you must specify 'dtype=object' when creating the ndarray\n",
      "  div_y=np.array(div_y)\n",
      "<ipython-input-14-1258f706585d>:9: VisibleDeprecationWarning: Creating an ndarray from ragged nested sequences (which is a list-or-tuple of lists-or-tuples-or ndarrays with different lengths or shapes) is deprecated. If you meant to do this, you must specify 'dtype=object' when creating the ndarray\n",
      "  div_ids=np.array(div_ids)\n"
     ]
    }
   ],
   "source": [
    "#transforming all resultst to numpy arrays\n",
    "for i in range(3):\n",
    "    div_x[i]=np.array(div_x[i])\n",
    "    div_y[i]=np.array(div_y[i])\n",
    "    div_ids[i]=np.array(div_ids[i])\n",
    "\n",
    "div_x=np.array(div_x)\n",
    "div_y=np.array(div_y)\n",
    "div_ids=np.array(div_ids)"
   ]
  },
  {
   "cell_type": "code",
   "execution_count": 15,
   "metadata": {
    "ExecuteTime": {
     "end_time": "2021-11-01T02:00:53.071366Z",
     "start_time": "2021-11-01T02:00:51.951656Z"
    }
   },
   "outputs": [
    {
     "name": "stderr",
     "output_type": "stream",
     "text": [
      "<ipython-input-15-b8e6f207ef64>:21: VisibleDeprecationWarning: Creating an ndarray from ragged nested sequences (which is a list-or-tuple of lists-or-tuples-or ndarrays with different lengths or shapes) is deprecated. If you meant to do this, you must specify 'dtype=object' when creating the ndarray\n",
      "  div_x_test=np.array(div_x_test)\n"
     ]
    }
   ],
   "source": [
    "div_x_test= [[],[],[]]\n",
    "div_id_test=[[],[],[]]\n",
    "N_test=tX_test.shape[0]\n",
    "#For every data point\n",
    "for i in range (N_test):\n",
    "    #we extract its pri_jet_num\n",
    "    pri_jet_num=int(tX_test[i,jet_num_col])\n",
    "    #we assign it to the new data set based on its pri_jet_num\n",
    "    if (pri_jet_num in [0,1]): \n",
    "        div_x_test[pri_jet_num].append(tX_test[i])\n",
    "        div_id_test[pri_jet_num].append( ids_test[i])\n",
    "    if (pri_jet_num in [2,3]):\n",
    "        div_x_test[2].append(tX_test[i])\n",
    "        div_id_test[2].append( ids_test[i])\n",
    "\n",
    "\n",
    "#transforming all resultst to numpy arrays\n",
    "for i in range(3):\n",
    "    div_x_test[i]=np.array(div_x_test[i])\n",
    "\n",
    "div_x_test=np.array(div_x_test)"
   ]
  },
  {
   "cell_type": "markdown",
   "metadata": {},
   "source": [
    "## Deleting Features"
   ]
  },
  {
   "cell_type": "code",
   "execution_count": 18,
   "metadata": {
    "ExecuteTime": {
     "end_time": "2021-11-01T02:01:05.845363Z",
     "start_time": "2021-11-01T02:01:05.780959Z"
    }
   },
   "outputs": [],
   "source": [
    "#del_features[i] is False if the feature will be deleated\n",
    "\n",
    "#del_features[i] is for the ith dataset\n",
    "#del_features[:j] is for the jth feature\n",
    "\n",
    "del_features= [[],[],[]]"
   ]
  },
  {
   "cell_type": "markdown",
   "metadata": {},
   "source": [
    "### Undefined Features"
   ]
  },
  {
   "cell_type": "code",
   "execution_count": 19,
   "metadata": {
    "ExecuteTime": {
     "end_time": "2021-11-01T02:01:07.304035Z",
     "start_time": "2021-11-01T02:01:07.242517Z"
    }
   },
   "outputs": [],
   "source": [
    "#takes as input a list of lists called del_features\n",
    "#del_features[i] contains a list of the indices of the features to be deleted in ith dataset \n",
    "def f_del_features(del_features):\n",
    "    for i in range(3):\n",
    "        div_x[i]=np.delete(div_x[i],del_features[i],axis=1)\n",
    "        div_x_test[i]=np.delete(div_x_test[i],del_features[i],axis=1)\n"
   ]
  },
  {
   "cell_type": "code",
   "execution_count": 20,
   "metadata": {
    "ExecuteTime": {
     "end_time": "2021-11-01T02:01:09.873919Z",
     "start_time": "2021-11-01T02:01:07.806585Z"
    }
   },
   "outputs": [],
   "source": [
    "# We add all the features that contain only one values\n",
    "for i in range (3):\n",
    "    for j in range(D):\n",
    "        s= set(div_x[i][:,j])\n",
    "        if (len(s)<2):\n",
    "            del_features[i].append(j)"
   ]
  },
  {
   "cell_type": "code",
   "execution_count": 22,
   "metadata": {
    "ExecuteTime": {
     "end_time": "2021-11-01T02:01:11.382429Z",
     "start_time": "2021-11-01T02:01:11.080395Z"
    }
   },
   "outputs": [],
   "source": [
    "f_del_features(del_features)\n",
    "#We reinitialize del_features\n",
    "del_features= [[],[],[]]"
   ]
  },
  {
   "cell_type": "markdown",
   "metadata": {
    "heading_collapsed": true
   },
   "source": [
    "### Correlated Features"
   ]
  },
  {
   "cell_type": "code",
   "execution_count": 24,
   "metadata": {
    "ExecuteTime": {
     "end_time": "2021-10-28T23:16:59.369529Z",
     "start_time": "2021-10-28T23:16:59.140043Z"
    },
    "hidden": true
   },
   "outputs": [],
   "source": [
    "corrs=[[],[],[]]\n",
    "for i in range(3):\n",
    "    corrs[i]= np.corrcoef(div_x[i].T)\n"
   ]
  },
  {
   "cell_type": "code",
   "execution_count": 26,
   "metadata": {
    "ExecuteTime": {
     "end_time": "2021-10-28T23:17:00.439431Z",
     "start_time": "2021-10-28T23:17:00.331206Z"
    },
    "hidden": true
   },
   "outputs": [],
   "source": [
    "for k in range(3):\n",
    "    corr=corrs[k]\n",
    "    D_k=div_x[k].shape[1]\n",
    "    for i in range(1,D_k):\n",
    "        for j in range(i+1,D_k):\n",
    "            if corr[i,j] >= 0.9:\n",
    "                if j not in del_features[k]:\n",
    "                    del_features[k].append(j)                 \n"
   ]
  },
  {
   "cell_type": "code",
   "execution_count": 28,
   "metadata": {
    "ExecuteTime": {
     "end_time": "2021-10-28T23:17:00.662874Z",
     "start_time": "2021-10-28T23:17:00.522235Z"
    },
    "hidden": true
   },
   "outputs": [],
   "source": [
    "f_del_features(del_features)\n",
    "#We reinitialize del_features\n",
    "del_features= [[],[],[]]"
   ]
  },
  {
   "cell_type": "markdown",
   "metadata": {
    "heading_collapsed": true
   },
   "source": [
    "## TO ADD"
   ]
  },
  {
   "cell_type": "code",
   "execution_count": 30,
   "metadata": {
    "ExecuteTime": {
     "end_time": "2021-10-28T23:17:00.963709Z",
     "start_time": "2021-10-28T23:17:00.874797Z"
    },
    "hidden": true
   },
   "outputs": [],
   "source": [
    "# tX[i] gives you the ith row, therefore the ith data point\n",
    "# tX[:,j] gives you the jth feature \n",
    "\n",
    "def rescaling(tX):\n",
    "    tX=tX.astype(float)\n",
    "    print(tX.shape)\n",
    "    N=tX.shape[0]\n",
    "    D= tX.shape[1]\n",
    "    for n_feat in range(D):\n",
    "        print(n_feat)\n",
    "        print()\n",
    "        data=tX[n_feat].astype(float)\n",
    "        print(data)\n",
    "        print((data - np.min(data)))\n",
    "        tX[n_feat]=(data - np.min(data)) / (np.max(data) - np.min(data))\n",
    "    return tX"
   ]
  },
  {
   "cell_type": "markdown",
   "metadata": {},
   "source": [
    "## All Together"
   ]
  },
  {
   "cell_type": "code",
   "execution_count": 31,
   "metadata": {
    "ExecuteTime": {
     "end_time": "2021-11-01T02:01:18.574384Z",
     "start_time": "2021-11-01T02:01:18.510420Z"
    }
   },
   "outputs": [],
   "source": [
    "### Transform tX by changing -999 with the mean of column\n",
    "def transformTX(tX):\n",
    "    N=tX.shape[0]\n",
    "    D=tX.shape[1]\n",
    "    tX2 = np.copy(tX)\n",
    "    tX2[tX2 == -999] = 0\n",
    "    means = np.mean(tX2, axis=0)\n",
    "    for i in range(N):\n",
    "        for j in range(D):\n",
    "            if tX[i][j] == -999:\n",
    "                tX[i][j] = means[j]\n",
    "    return tX"
   ]
  },
  {
   "cell_type": "code",
   "execution_count": 32,
   "metadata": {
    "ExecuteTime": {
     "end_time": "2021-11-01T02:01:19.278147Z",
     "start_time": "2021-11-01T02:01:19.208550Z"
    }
   },
   "outputs": [],
   "source": [
    "### Apply log to smoothen data\n",
    "def maybeAddLog(tX):\n",
    "    N=tX.shape[0]\n",
    "    D=tX.shape[1]\n",
    "    tX2 = np.copy(tX)\n",
    "    mins = np.min(tX2, axis=0)\n",
    "    for i in range(D):\n",
    "        if mins[i]>0:\n",
    "            for k in range(N):\n",
    "                tX[k][i] = np.log(tX[k][i])\n",
    "    return tX"
   ]
  },
  {
   "cell_type": "code",
   "execution_count": 33,
   "metadata": {
    "ExecuteTime": {
     "end_time": "2021-11-01T02:01:19.947786Z",
     "start_time": "2021-11-01T02:01:19.882573Z"
    }
   },
   "outputs": [],
   "source": [
    "### Features Expansion to capture non linear data\n",
    "def featuresExpansion(tX, degree):\n",
    "    N=tX.shape[0]\n",
    "    D=tX.shape[1]\n",
    "    res = np.zeros(N).reshape(-1,1)\n",
    "    for i in range(D):\n",
    "        for d in range(1,degree+1):\n",
    "            col = tX[:,i]**d\n",
    "            col = col.reshape(-1,1)\n",
    "            res = np.hstack((res, col))\n",
    "    res = np.delete(res, 0,1)\n",
    "    return res"
   ]
  },
  {
   "cell_type": "code",
   "execution_count": 34,
   "metadata": {
    "ExecuteTime": {
     "end_time": "2021-11-01T02:02:37.985861Z",
     "start_time": "2021-11-01T02:01:37.924527Z"
    },
    "scrolled": false
   },
   "outputs": [
    {
     "name": "stdout",
     "output_type": "stream",
     "text": [
      "(99913, 17)\n",
      "(77544, 20)\n",
      "(72543, 28)\n"
     ]
    }
   ],
   "source": [
    "deg = 7\n",
    "for i in range(3):\n",
    "    div_x[i] = transformTX(div_x[i])\n",
    "    div_x[i] = maybeAddLog(div_x[i])\n",
    "    div_x[i] = featuresExpansion(div_x[i], deg)\n",
    "    \n",
    "    \n",
    "    div_x_test[i] = transformTX(div_x_test[i])\n",
    "    div_x_test[i] = maybeAddLog(div_x_test[i])\n",
    "    div_x_test[i] = featuresExpansion(div_x_test[i], deg)"
   ]
  },
  {
   "cell_type": "markdown",
   "metadata": {},
   "source": [
    "# Linear Regression"
   ]
  },
  {
   "cell_type": "markdown",
   "metadata": {},
   "source": [
    "Remark: We are assuming that we DO NOT have an offset and that w = {w1, w2, ... , wD} where D=30 in our case"
   ]
  },
  {
   "cell_type": "code",
   "execution_count": 41,
   "metadata": {
    "ExecuteTime": {
     "end_time": "2021-11-01T02:02:51.820530Z",
     "start_time": "2021-11-01T02:02:51.753460Z"
    }
   },
   "outputs": [],
   "source": [
    "### Least squares regression using normal equations\n",
    "def least_squares(y, tX):\n",
    "    return np.linalg.solve(tX.T@tX,tX.T@y)"
   ]
  },
  {
   "cell_type": "markdown",
   "metadata": {},
   "source": [
    "# Generate predictions and save ouput in csv format for submission:"
   ]
  },
  {
   "cell_type": "code",
   "execution_count": 63,
   "metadata": {
    "ExecuteTime": {
     "end_time": "2021-11-01T02:03:00.514165Z",
     "start_time": "2021-11-01T02:03:00.421414Z"
    },
    "scrolled": true
   },
   "outputs": [],
   "source": [
    "OUTPUT_PATH = r\"C:\\Users\\USER\\Desktop\\MA1\\ML\\output.csv\" # TODO: fill in desired name of output file for submission"
   ]
  },
  {
   "cell_type": "code",
   "execution_count": 64,
   "metadata": {
    "ExecuteTime": {
     "end_time": "2021-11-01T02:03:12.077677Z",
     "start_time": "2021-11-01T02:03:11.873588Z"
    }
   },
   "outputs": [],
   "source": [
    "###IF WE ARE USING LEAST_SQUARES \n",
    "weights= [[],[],[]]\n",
    "pred=  [[],[],[]]\n",
    "for i in range(3):\n",
    "    weights[i] = least_squares(div_y[i],div_x[i])\n",
    "    pred[i] = predict_labels(weights[i],div_x_test[i] )"
   ]
  },
  {
   "cell_type": "code",
   "execution_count": 66,
   "metadata": {
    "ExecuteTime": {
     "end_time": "2021-11-01T02:03:20.154857Z",
     "start_time": "2021-11-01T02:03:19.491187Z"
    }
   },
   "outputs": [],
   "source": [
    "y_pred= []\n",
    "ctr= [0,0,0]\n",
    "for i in range(N_test):\n",
    "    pri_jet_num=int(tX_test[i,jet_num_col])\n",
    "    if (pri_jet_num in [0,1]): \n",
    "        idx= ctr[pri_jet_num]\n",
    "        ctr[pri_jet_num]+=1\n",
    "        x= pred[pri_jet_num][idx]\n",
    "        y_pred.append(x)\n",
    "    if (pri_jet_num in [2,3]):\n",
    "        idx= ctr[2]\n",
    "        ctr[2]+=1\n",
    "        x= pred[2][idx]\n",
    "        y_pred.append(x)\n",
    "    \n"
   ]
  },
  {
   "cell_type": "code",
   "execution_count": 68,
   "metadata": {
    "ExecuteTime": {
     "end_time": "2021-11-01T02:03:32.556022Z",
     "start_time": "2021-11-01T02:03:30.646776Z"
    }
   },
   "outputs": [],
   "source": [
    "#Create submission\n",
    "create_csv_submission(ids_test, y_pred, OUTPUT_PATH)"
   ]
  }
 ],
 "metadata": {
  "kernelspec": {
   "display_name": "Python 3",
   "language": "python",
   "name": "python3"
  },
  "language_info": {
   "codemirror_mode": {
    "name": "ipython",
    "version": 3
   },
   "file_extension": ".py",
   "mimetype": "text/x-python",
   "name": "python",
   "nbconvert_exporter": "python",
   "pygments_lexer": "ipython3",
   "version": "3.8.5"
  },
  "toc": {
   "base_numbering": 1,
   "nav_menu": {},
   "number_sections": true,
   "sideBar": true,
   "skip_h1_title": false,
   "title_cell": "Table of Contents",
   "title_sidebar": "Contents",
   "toc_cell": false,
   "toc_position": {},
   "toc_section_display": true,
   "toc_window_display": false
  }
 },
 "nbformat": 4,
 "nbformat_minor": 4
}
